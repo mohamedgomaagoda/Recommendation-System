{
  "nbformat": 4,
  "nbformat_minor": 0,
  "metadata": {
    "colab": {
      "provenance": [],
      "authorship_tag": "ABX9TyOjpuuveC5ufuEqAVoPS89Q",
      "include_colab_link": true
    },
    "kernelspec": {
      "name": "python3",
      "display_name": "Python 3"
    },
    "language_info": {
      "name": "python"
    }
  },
  "cells": [
    {
      "cell_type": "markdown",
      "metadata": {
        "id": "view-in-github",
        "colab_type": "text"
      },
      "source": [
        "<a href=\"https://colab.research.google.com/github/mohamedgomaagoda/Recommendation-System/blob/main/Recommendation.ipynb\" target=\"_parent\"><img src=\"https://colab.research.google.com/assets/colab-badge.svg\" alt=\"Open In Colab\"/></a>"
      ]
    },
    {
      "cell_type": "code",
      "execution_count": 1,
      "metadata": {
        "id": "o1WhZsZ2kQ1s"
      },
      "outputs": [],
      "source": [
        "import string\n",
        "import numpy as np\n",
        "import pandas as pd\n",
        "import matplotlib.pyplot as plt\n",
        "import plotly.graph_objects as go\n",
        "import plotly.express as px\n",
        "from wordcloud import WordCloud\n",
        "import pickle\n",
        "from sklearn.feature_extraction.text import TfidfVectorizer\n",
        "from sklearn.metrics.pairwise import cosine_similarity\n",
        "import numpy as np\n",
        "from scipy.sparse import save_npz"
      ]
    },
    {
      "cell_type": "code",
      "source": [
        "netflix_data = pd.read_csv(\"/kaggle/input/netflix-movies-and-shows-dataset/netflix_data.csv\")\n",
        "netflix_data.head()"
      ],
      "metadata": {
        "id": "j43H41FKz4m8"
      },
      "execution_count": null,
      "outputs": []
    },
    {
      "cell_type": "code",
      "source": [
        "netflix_data.info()\n"
      ],
      "metadata": {
        "id": "jGtULQqOzeOi"
      },
      "execution_count": null,
      "outputs": []
    },
    {
      "cell_type": "code",
      "source": [
        "netflix_data.isnull().sum()\n"
      ],
      "metadata": {
        "id": "aw_Cz0otziOJ"
      },
      "execution_count": null,
      "outputs": []
    },
    {
      "cell_type": "code",
      "source": [
        "netflix_data.fillna('', inplace=True)\n"
      ],
      "metadata": {
        "id": "afydZn8rz_Ro"
      },
      "execution_count": null,
      "outputs": []
    },
    {
      "cell_type": "code",
      "source": [
        "netflix_data.describe()"
      ],
      "metadata": {
        "id": "7HiyoyNi0EPv"
      },
      "execution_count": null,
      "outputs": []
    },
    {
      "cell_type": "code",
      "source": [],
      "metadata": {
        "id": "JIy3Jo9V0cam"
      },
      "execution_count": null,
      "outputs": []
    },
    {
      "cell_type": "code",
      "source": [],
      "metadata": {
        "id": "ceTzLDmA0cvW"
      },
      "execution_count": null,
      "outputs": []
    },
    {
      "cell_type": "code",
      "source": [
        "new_data = netflix_data[['title', 'type', 'director', 'cast', 'rating', 'listed_in', 'description']]\n",
        "new_data.set_index('title', inplace=True)"
      ],
      "metadata": {
        "id": "4h9FLFfR0ark"
      },
      "execution_count": null,
      "outputs": []
    },
    {
      "cell_type": "code",
      "source": [
        "class TextCleaner:\n",
        "    def separate_text(self, texts):\n",
        "        unique_texts = set()\n",
        "        for text in texts.split(','):\n",
        "            unique_texts.add(text.strip().lower())\n",
        "        return ' '.join(unique_texts)\n",
        "\n",
        "    def remove_space(self, texts):\n",
        "        return texts.replace(' ', '').lower()\n",
        "\n",
        "    def remove_punc(self, texts):\n",
        "        texts = texts.lower()\n",
        "        texts = texts.translate(str.maketrans('', '', string.punctuation))\n",
        "        return ' '.join(texts.split())\n",
        "\n",
        "    def clean_text(self, texts):\n",
        "        texts = self.separate_text(texts)\n",
        "        texts = self.remove_space(texts)\n",
        "        texts = self.remove_punc(texts)\n",
        "        return texts"
      ],
      "metadata": {
        "id": "9FBKZUbz0bjM"
      },
      "execution_count": null,
      "outputs": []
    },
    {
      "cell_type": "code",
      "source": [
        "cleaner = TextCleaner()\n"
      ],
      "metadata": {
        "id": "UNPjulWj017D"
      },
      "execution_count": null,
      "outputs": []
    },
    {
      "cell_type": "code",
      "source": [
        "new_data['type']        = new_data['type'].apply(cleaner.remove_space)\n",
        "new_data['director']    = new_data['director'].apply(cleaner.separate_text)\n",
        "new_data['cast']        = new_data['cast'].apply(cleaner.separate_text)\n",
        "new_data['rating']      = new_data['rating'].apply(cleaner.remove_space)\n",
        "new_data['listed_in']   = new_data['listed_in'].apply(cleaner.separate_text)\n",
        "new_data['description'] = new_data['description'].apply(cleaner.remove_punc)"
      ],
      "metadata": {
        "id": "Gq-IQzvZ04oe"
      },
      "execution_count": null,
      "outputs": []
    },
    {
      "cell_type": "code",
      "source": [
        "new_data['BoW'] = new_data.apply(lambda row: ' '.join(row.dropna().values), axis=1)\n",
        "new_data.drop(new_data.columns[:-1], axis=1, inplace=True)"
      ],
      "metadata": {
        "id": "3zvAsJDx07nv"
      },
      "execution_count": null,
      "outputs": []
    },
    {
      "cell_type": "code",
      "source": [
        "tfid = TfidfVectorizer()\n",
        "tfid_matrix = tfid.fit_transform(new_data['BoW'])"
      ],
      "metadata": {
        "id": "hrmzc_FG0-zk"
      },
      "execution_count": null,
      "outputs": []
    },
    {
      "cell_type": "code",
      "source": [
        "cosine_sim = cosine_similarity(tfid_matrix, tfid_matrix)\n",
        "cosine_sim"
      ],
      "metadata": {
        "id": "DLj4gNMU1By9"
      },
      "execution_count": null,
      "outputs": []
    },
    {
      "cell_type": "code",
      "source": [
        "cosine_sim\n"
      ],
      "metadata": {
        "id": "oOKRB7ku1Mak"
      },
      "execution_count": null,
      "outputs": []
    },
    {
      "cell_type": "code",
      "source": [
        "np.save('tfidf_matrix.npy', tfid_matrix)\n",
        "np.save('cosine_sim_matrix.npy', cosine_sim)"
      ],
      "metadata": {
        "id": "WnWcGynP1Owz"
      },
      "execution_count": null,
      "outputs": []
    },
    {
      "cell_type": "code",
      "source": [
        "with open('tfidf_vectorizer.pkl', 'wb') as f:\n",
        "    pickle.dump(tfid, f)"
      ],
      "metadata": {
        "id": "JvtS4ntn1TSL"
      },
      "execution_count": null,
      "outputs": []
    },
    {
      "cell_type": "code",
      "source": [
        "final_data = netflix_data[['title', 'type']]"
      ],
      "metadata": {
        "id": "YABxnwpB2lgM"
      },
      "execution_count": null,
      "outputs": []
    },
    {
      "cell_type": "code",
      "source": [
        "import re\n",
        "class FlixHub:\n",
        "    def __init__(self, df, cosine_sim):\n",
        "        self.df = df\n",
        "        self.cosine_sim = cosine_sim\n",
        "\n",
        "    def recommendation(self, title, total_result=5, threshold=0.5):\n",
        "        idx = self.find_id(title)\n",
        "        self.df['similarity'] = self.cosine_sim[idx]\n",
        "        sort_df = self.df.sort_values(by='similarity', ascending=False)[1:total_result+1]\n",
        "\n",
        "        movies = sort_df['title'][sort_df['type'] == 'Movie']\n",
        "        tv_shows = sort_df['title'][sort_df['type'] == 'TV Show']\n",
        "\n",
        "        similar_movies = []\n",
        "        similar_tv_shows = []\n",
        "\n",
        "        for i, movie in enumerate(movies):\n",
        "            similar_movies.append('{}. {}'.format(i+1, movie))\n",
        "\n",
        "        for i, tv_show in enumerate(tv_shows):\n",
        "            similar_tv_shows.append('{}. {}'.format(i+1, tv_show))\n",
        "\n",
        "        return similar_movies, similar_tv_shows\n",
        "\n",
        "    def find_id(self, name):\n",
        "        for index, string in enumerate(self.df['title']):\n",
        "            if re.search(name, string):\n",
        "                return index\n",
        "        return -1"
      ],
      "metadata": {
        "id": "XJPl0e_K1gUi"
      },
      "execution_count": null,
      "outputs": []
    },
    {
      "cell_type": "code",
      "source": [
        "flix_hub = FlixHub(final_data, cosine_sim)\n",
        "movies, tv_shows = flix_hub.recommendation('Blood & Water', total_result=10, threshold=0.5)\n",
        "\n",
        "print('Similar Movie(s) list:')\n",
        "for movie in movies:\n",
        "    print(movie)\n",
        "\n",
        "print('\\nSimilar TV_show(s) list:')\n",
        "for tv_show in tv_shows:\n",
        "    print(tv_show)"
      ],
      "metadata": {
        "id": "MhXb4TPG2DDi"
      },
      "execution_count": null,
      "outputs": []
    }
  ]
}